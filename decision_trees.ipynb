{
 "cells": [
  {
   "cell_type": "code",
   "execution_count": 24,
   "metadata": {},
   "outputs": [],
   "source": [
    "import pandas as pd\n",
    "from sklearn.tree import DecisionTreeRegressor \n",
    "from sklearn.tree import DecisionTreeClassifier \n",
    "from sklearn.model_selection import train_test_split \n",
    "from sklearn import metrics \n",
    "\n",
    "from sklearn import tree\n",
    "\n",
    "import graphviz \n",
    "\n",
    "import numpy as np"
   ]
  },
  {
   "cell_type": "code",
   "execution_count": 10,
   "metadata": {},
   "outputs": [
    {
     "data": {
      "text/html": [
       "<div>\n",
       "<style scoped>\n",
       "    .dataframe tbody tr th:only-of-type {\n",
       "        vertical-align: middle;\n",
       "    }\n",
       "\n",
       "    .dataframe tbody tr th {\n",
       "        vertical-align: top;\n",
       "    }\n",
       "\n",
       "    .dataframe thead th {\n",
       "        text-align: right;\n",
       "    }\n",
       "</style>\n",
       "<table border=\"1\" class=\"dataframe\">\n",
       "  <thead>\n",
       "    <tr style=\"text-align: right;\">\n",
       "      <th></th>\n",
       "      <th>Unnamed: 0</th>\n",
       "      <th>Embedding</th>\n",
       "      <th>Num_layers</th>\n",
       "      <th>Size</th>\n",
       "      <th>Dropout</th>\n",
       "      <th>Reg</th>\n",
       "      <th>Gen.</th>\n",
       "      <th>Prec.</th>\n",
       "      <th>Fit.</th>\n",
       "      <th>average</th>\n",
       "    </tr>\n",
       "  </thead>\n",
       "  <tbody>\n",
       "    <tr>\n",
       "      <th>0</th>\n",
       "      <td>0</td>\n",
       "      <td>Yes</td>\n",
       "      <td>1</td>\n",
       "      <td>16</td>\n",
       "      <td>0.0</td>\n",
       "      <td>0.00000</td>\n",
       "      <td>0.055165</td>\n",
       "      <td>0.947646</td>\n",
       "      <td>0.955088</td>\n",
       "      <td>0.652633</td>\n",
       "    </tr>\n",
       "    <tr>\n",
       "      <th>1</th>\n",
       "      <td>1</td>\n",
       "      <td>Yes</td>\n",
       "      <td>1</td>\n",
       "      <td>16</td>\n",
       "      <td>0.0</td>\n",
       "      <td>0.00001</td>\n",
       "      <td>0.081603</td>\n",
       "      <td>0.946615</td>\n",
       "      <td>0.953828</td>\n",
       "      <td>0.660682</td>\n",
       "    </tr>\n",
       "    <tr>\n",
       "      <th>2</th>\n",
       "      <td>2</td>\n",
       "      <td>Yes</td>\n",
       "      <td>1</td>\n",
       "      <td>16</td>\n",
       "      <td>0.0</td>\n",
       "      <td>0.00010</td>\n",
       "      <td>0.620619</td>\n",
       "      <td>0.940219</td>\n",
       "      <td>0.942944</td>\n",
       "      <td>0.834594</td>\n",
       "    </tr>\n",
       "    <tr>\n",
       "      <th>3</th>\n",
       "      <td>3</td>\n",
       "      <td>Yes</td>\n",
       "      <td>1</td>\n",
       "      <td>16</td>\n",
       "      <td>0.0</td>\n",
       "      <td>0.00100</td>\n",
       "      <td>0.649250</td>\n",
       "      <td>0.928021</td>\n",
       "      <td>0.930385</td>\n",
       "      <td>0.835885</td>\n",
       "    </tr>\n",
       "    <tr>\n",
       "      <th>4</th>\n",
       "      <td>4</td>\n",
       "      <td>Yes</td>\n",
       "      <td>1</td>\n",
       "      <td>16</td>\n",
       "      <td>0.0</td>\n",
       "      <td>0.01000</td>\n",
       "      <td>0.713283</td>\n",
       "      <td>0.907292</td>\n",
       "      <td>0.908992</td>\n",
       "      <td>0.843189</td>\n",
       "    </tr>\n",
       "  </tbody>\n",
       "</table>\n",
       "</div>"
      ],
      "text/plain": [
       "   Unnamed: 0 Embedding  Num_layers  Size  Dropout      Reg      Gen.  \\\n",
       "0           0       Yes           1    16      0.0  0.00000  0.055165   \n",
       "1           1       Yes           1    16      0.0  0.00001  0.081603   \n",
       "2           2       Yes           1    16      0.0  0.00010  0.620619   \n",
       "3           3       Yes           1    16      0.0  0.00100  0.649250   \n",
       "4           4       Yes           1    16      0.0  0.01000  0.713283   \n",
       "\n",
       "      Prec.      Fit.   average  \n",
       "0  0.947646  0.955088  0.652633  \n",
       "1  0.946615  0.953828  0.660682  \n",
       "2  0.940219  0.942944  0.834594  \n",
       "3  0.928021  0.930385  0.835885  \n",
       "4  0.907292  0.908992  0.843189  "
      ]
     },
     "execution_count": 10,
     "metadata": {},
     "output_type": "execute_result"
    }
   ],
   "source": [
    "df = pd.read_csv(\"Results_grid_search.csv\")\n",
    "\n",
    "df.head()"
   ]
  },
  {
   "cell_type": "code",
   "execution_count": 11,
   "metadata": {},
   "outputs": [],
   "source": [
    "df['Embedding'] = df['Embedding'].map({'Yes':True ,'No':False})"
   ]
  },
  {
   "cell_type": "code",
   "execution_count": 12,
   "metadata": {},
   "outputs": [
    {
     "data": {
      "text/html": [
       "<div>\n",
       "<style scoped>\n",
       "    .dataframe tbody tr th:only-of-type {\n",
       "        vertical-align: middle;\n",
       "    }\n",
       "\n",
       "    .dataframe tbody tr th {\n",
       "        vertical-align: top;\n",
       "    }\n",
       "\n",
       "    .dataframe thead th {\n",
       "        text-align: right;\n",
       "    }\n",
       "</style>\n",
       "<table border=\"1\" class=\"dataframe\">\n",
       "  <thead>\n",
       "    <tr style=\"text-align: right;\">\n",
       "      <th></th>\n",
       "      <th>Unnamed: 0</th>\n",
       "      <th>Embedding</th>\n",
       "      <th>Num_layers</th>\n",
       "      <th>Size</th>\n",
       "      <th>Dropout</th>\n",
       "      <th>Reg</th>\n",
       "      <th>Gen.</th>\n",
       "      <th>Prec.</th>\n",
       "      <th>Fit.</th>\n",
       "      <th>average</th>\n",
       "    </tr>\n",
       "  </thead>\n",
       "  <tbody>\n",
       "    <tr>\n",
       "      <th>0</th>\n",
       "      <td>0</td>\n",
       "      <td>True</td>\n",
       "      <td>1</td>\n",
       "      <td>16</td>\n",
       "      <td>0.0</td>\n",
       "      <td>0.00000</td>\n",
       "      <td>0.055165</td>\n",
       "      <td>0.947646</td>\n",
       "      <td>0.955088</td>\n",
       "      <td>0.652633</td>\n",
       "    </tr>\n",
       "    <tr>\n",
       "      <th>1</th>\n",
       "      <td>1</td>\n",
       "      <td>True</td>\n",
       "      <td>1</td>\n",
       "      <td>16</td>\n",
       "      <td>0.0</td>\n",
       "      <td>0.00001</td>\n",
       "      <td>0.081603</td>\n",
       "      <td>0.946615</td>\n",
       "      <td>0.953828</td>\n",
       "      <td>0.660682</td>\n",
       "    </tr>\n",
       "    <tr>\n",
       "      <th>2</th>\n",
       "      <td>2</td>\n",
       "      <td>True</td>\n",
       "      <td>1</td>\n",
       "      <td>16</td>\n",
       "      <td>0.0</td>\n",
       "      <td>0.00010</td>\n",
       "      <td>0.620619</td>\n",
       "      <td>0.940219</td>\n",
       "      <td>0.942944</td>\n",
       "      <td>0.834594</td>\n",
       "    </tr>\n",
       "    <tr>\n",
       "      <th>3</th>\n",
       "      <td>3</td>\n",
       "      <td>True</td>\n",
       "      <td>1</td>\n",
       "      <td>16</td>\n",
       "      <td>0.0</td>\n",
       "      <td>0.00100</td>\n",
       "      <td>0.649250</td>\n",
       "      <td>0.928021</td>\n",
       "      <td>0.930385</td>\n",
       "      <td>0.835885</td>\n",
       "    </tr>\n",
       "    <tr>\n",
       "      <th>4</th>\n",
       "      <td>4</td>\n",
       "      <td>True</td>\n",
       "      <td>1</td>\n",
       "      <td>16</td>\n",
       "      <td>0.0</td>\n",
       "      <td>0.01000</td>\n",
       "      <td>0.713283</td>\n",
       "      <td>0.907292</td>\n",
       "      <td>0.908992</td>\n",
       "      <td>0.843189</td>\n",
       "    </tr>\n",
       "  </tbody>\n",
       "</table>\n",
       "</div>"
      ],
      "text/plain": [
       "   Unnamed: 0  Embedding  Num_layers  Size  Dropout      Reg      Gen.  \\\n",
       "0           0       True           1    16      0.0  0.00000  0.055165   \n",
       "1           1       True           1    16      0.0  0.00001  0.081603   \n",
       "2           2       True           1    16      0.0  0.00010  0.620619   \n",
       "3           3       True           1    16      0.0  0.00100  0.649250   \n",
       "4           4       True           1    16      0.0  0.01000  0.713283   \n",
       "\n",
       "      Prec.      Fit.   average  \n",
       "0  0.947646  0.955088  0.652633  \n",
       "1  0.946615  0.953828  0.660682  \n",
       "2  0.940219  0.942944  0.834594  \n",
       "3  0.928021  0.930385  0.835885  \n",
       "4  0.907292  0.908992  0.843189  "
      ]
     },
     "execution_count": 12,
     "metadata": {},
     "output_type": "execute_result"
    }
   ],
   "source": [
    "df.head()"
   ]
  },
  {
   "cell_type": "code",
   "execution_count": 13,
   "metadata": {},
   "outputs": [],
   "source": [
    "feature_cols = ['Embedding','Num_layers', 'Size', 'Dropout', 'Reg']\n",
    "X = df[feature_cols] # Features\n",
    "y_gen = df['Gen.']\n",
    "y_fit = df['Fit.']\n",
    "y_prec = df['Prec.']\n",
    "y_ave = df['average']"
   ]
  },
  {
   "cell_type": "markdown",
   "metadata": {},
   "source": [
    "# Generalization"
   ]
  },
  {
   "cell_type": "code",
   "execution_count": 14,
   "metadata": {},
   "outputs": [],
   "source": [
    "\n",
    "clf = DecisionTreeRegressor(max_depth=3)\n",
    "\n",
    "\n",
    "clf = clf.fit(X ,y_gen)\n"
   ]
  },
  {
   "cell_type": "code",
   "execution_count": 15,
   "metadata": {},
   "outputs": [
    {
     "data": {
      "text/plain": [
       "[Text(167.4, 190.26, 'X[4] <= 0.0\\nmse = 0.092\\nsamples = 180\\nvalue = 0.341'),\n",
       " Text(83.7, 135.9, 'X[4] <= 0.0\\nmse = 0.044\\nsamples = 72\\nvalue = 0.149'),\n",
       " Text(41.85, 81.53999999999999, 'X[2] <= 24.0\\nmse = 0.011\\nsamples = 36\\nvalue = 0.04'),\n",
       " Text(20.925, 27.180000000000007, 'mse = 0.024\\nsamples = 12\\nvalue = 0.116'),\n",
       " Text(62.775000000000006, 27.180000000000007, 'mse = 0.0\\nsamples = 24\\nvalue = 0.002'),\n",
       " Text(125.55000000000001, 81.53999999999999, 'X[3] <= 0.3\\nmse = 0.054\\nsamples = 36\\nvalue = 0.257'),\n",
       " Text(104.625, 27.180000000000007, 'mse = 0.016\\nsamples = 24\\nvalue = 0.15'),\n",
       " Text(146.475, 27.180000000000007, 'mse = 0.062\\nsamples = 12\\nvalue = 0.471'),\n",
       " Text(251.10000000000002, 135.9, 'X[4] <= 0.005\\nmse = 0.083\\nsamples = 108\\nvalue = 0.47'),\n",
       " Text(209.25, 81.53999999999999, 'X[4] <= 0.001\\nmse = 0.04\\nsamples = 72\\nvalue = 0.579'),\n",
       " Text(188.32500000000002, 27.180000000000007, 'mse = 0.009\\nsamples = 36\\nvalue = 0.653'),\n",
       " Text(230.175, 27.180000000000007, 'mse = 0.06\\nsamples = 36\\nvalue = 0.506'),\n",
       " Text(292.95, 81.53999999999999, 'X[1] <= 1.5\\nmse = 0.096\\nsamples = 36\\nvalue = 0.251'),\n",
       " Text(272.02500000000003, 27.180000000000007, 'mse = 0.066\\nsamples = 18\\nvalue = 0.503'),\n",
       " Text(313.875, 27.180000000000007, 'mse = 0.0\\nsamples = 18\\nvalue = 0.0')]"
      ]
     },
     "execution_count": 15,
     "metadata": {},
     "output_type": "execute_result"
    },
    {
     "data": {
      "image/png": "[encoded data removed]",
      "text/plain": [
       "<Figure size 432x288 with 1 Axes>"
      ]
     },
     "metadata": {
      "needs_background": "light"
     },
     "output_type": "display_data"
    }
   ],
   "source": [
    "tree.plot_tree(clf) "
   ]
  },
  {
   "cell_type": "code",
   "execution_count": 16,
   "metadata": {},
   "outputs": [
    {
     "data": {
      "text/plain": [
       "'Generalization.pdf'"
      ]
     },
     "execution_count": 16,
     "metadata": {},
     "output_type": "execute_result"
    }
   ],
   "source": [
    "dot_data = tree.export_graphviz(clf, out_file=None) \n",
    "graph = graphviz.Source(dot_data) \n",
    "graph.render(\"Generalization\") "
   ]
  },
  {
   "cell_type": "markdown",
   "metadata": {},
   "source": [
    "# Fitness"
   ]
  },
  {
   "cell_type": "code",
   "execution_count": 17,
   "metadata": {},
   "outputs": [],
   "source": [
    "clf = DecisionTreeRegressor(max_depth=3)\n",
    "\n",
    "clf = clf.fit(X ,y_fit)\n"
   ]
  },
  {
   "cell_type": "code",
   "execution_count": 18,
   "metadata": {},
   "outputs": [
    {
     "data": {
      "text/plain": [
       "[Text(167.4, 190.26, 'X[4] <= 0.005\\nmse = 0.112\\nsamples = 180\\nvalue = 0.762'),\n",
       " Text(83.7, 135.9, 'X[4] <= 0.001\\nmse = 0.04\\nsamples = 144\\nvalue = 0.876'),\n",
       " Text(41.85, 81.53999999999999, 'X[4] <= 0.0\\nmse = 0.0\\nsamples = 108\\nvalue = 0.948'),\n",
       " Text(20.925, 27.180000000000007, 'mse = 0.0\\nsamples = 72\\nvalue = 0.951'),\n",
       " Text(62.775000000000006, 27.180000000000007, 'mse = 0.0\\nsamples = 36\\nvalue = 0.941'),\n",
       " Text(125.55000000000001, 81.53999999999999, 'X[1] <= 1.5\\nmse = 0.099\\nsamples = 36\\nvalue = 0.662'),\n",
       " Text(104.625, 27.180000000000007, 'mse = 0.034\\nsamples = 18\\nvalue = 0.838'),\n",
       " Text(146.475, 27.180000000000007, 'mse = 0.101\\nsamples = 18\\nvalue = 0.487'),\n",
       " Text(251.10000000000002, 135.9, 'X[1] <= 1.5\\nmse = 0.139\\nsamples = 36\\nvalue = 0.304'),\n",
       " Text(209.25, 81.53999999999999, 'X[3] <= 0.1\\nmse = 0.094\\nsamples = 18\\nvalue = 0.609'),\n",
       " Text(188.32500000000002, 27.180000000000007, 'mse = 0.0\\nsamples = 6\\nvalue = 0.91'),\n",
       " Text(230.175, 27.180000000000007, 'mse = 0.072\\nsamples = 12\\nvalue = 0.458'),\n",
       " Text(292.95, 81.53999999999999, 'X[0] <= 0.5\\nmse = 0.0\\nsamples = 18\\nvalue = 0.0'),\n",
       " Text(272.02500000000003, 27.180000000000007, 'mse = 0.0\\nsamples = 9\\nvalue = 0.0'),\n",
       " Text(313.875, 27.180000000000007, 'mse = 0.0\\nsamples = 9\\nvalue = 0.0')]"
      ]
     },
     "execution_count": 18,
     "metadata": {},
     "output_type": "execute_result"
    },
    {
     "data": {
      "image/png": "[encoded data removed]",
      "text/plain": [
       "<Figure size 432x288 with 1 Axes>"
      ]
     },
     "metadata": {
      "needs_background": "light"
     },
     "output_type": "display_data"
    }
   ],
   "source": [
    "tree.plot_tree(clf) "
   ]
  },
  {
   "cell_type": "code",
   "execution_count": 19,
   "metadata": {},
   "outputs": [
    {
     "data": {
      "text/plain": [
       "'Fitness.pdf'"
      ]
     },
     "execution_count": 19,
     "metadata": {},
     "output_type": "execute_result"
    }
   ],
   "source": [
    "dot_data = tree.export_graphviz(clf, out_file=None) \n",
    "graph = graphviz.Source(dot_data) \n",
    "graph.render(\"Fitness\") "
   ]
  },
  {
   "cell_type": "markdown",
   "metadata": {},
   "source": [
    "# Precision"
   ]
  },
  {
   "cell_type": "code",
   "execution_count": 20,
   "metadata": {},
   "outputs": [],
   "source": [
    "clf = DecisionTreeRegressor(max_depth=3)\n",
    "\n",
    "clf = clf.fit(X ,y_prec)\n"
   ]
  },
  {
   "cell_type": "code",
   "execution_count": 21,
   "metadata": {},
   "outputs": [
    {
     "data": {
      "text/plain": [
       "[Text(193.15384615384616, 190.26, 'X[4] <= 0.005\\nmse = 0.111\\nsamples = 180\\nvalue = 0.758'),\n",
       " Text(103.01538461538462, 135.9, 'X[4] <= 0.001\\nmse = 0.039\\nsamples = 144\\nvalue = 0.872'),\n",
       " Text(51.50769230769231, 81.53999999999999, 'X[2] <= 24.0\\nmse = 0.0\\nsamples = 108\\nvalue = 0.942'),\n",
       " Text(25.753846153846155, 27.180000000000007, 'mse = 0.0\\nsamples = 36\\nvalue = 0.938'),\n",
       " Text(77.26153846153846, 27.180000000000007, 'mse = 0.0\\nsamples = 72\\nvalue = 0.944'),\n",
       " Text(154.52307692307693, 81.53999999999999, 'X[1] <= 1.5\\nmse = 0.098\\nsamples = 36\\nvalue = 0.661'),\n",
       " Text(128.76923076923077, 27.180000000000007, 'mse = 0.034\\nsamples = 18\\nvalue = 0.836'),\n",
       " Text(180.27692307692308, 27.180000000000007, 'mse = 0.101\\nsamples = 18\\nvalue = 0.486'),\n",
       " Text(283.2923076923077, 135.9, 'X[1] <= 1.5\\nmse = 0.139\\nsamples = 36\\nvalue = 0.304'),\n",
       " Text(257.53846153846155, 81.53999999999999, 'X[3] <= 0.1\\nmse = 0.093\\nsamples = 18\\nvalue = 0.608'),\n",
       " Text(231.7846153846154, 27.180000000000007, 'mse = 0.0\\nsamples = 6\\nvalue = 0.909'),\n",
       " Text(283.2923076923077, 27.180000000000007, 'mse = 0.072\\nsamples = 12\\nvalue = 0.457'),\n",
       " Text(309.04615384615386, 81.53999999999999, 'mse = -0.0\\nsamples = 18\\nvalue = 0.0')]"
      ]
     },
     "execution_count": 21,
     "metadata": {},
     "output_type": "execute_result"
    },
    {
     "data": {
      "image/png": "[encoded data removed]",
      "text/plain": [
       "<Figure size 432x288 with 1 Axes>"
      ]
     },
     "metadata": {
      "needs_background": "light"
     },
     "output_type": "display_data"
    }
   ],
   "source": [
    "tree.plot_tree(clf) "
   ]
  },
  {
   "cell_type": "code",
   "execution_count": 22,
   "metadata": {},
   "outputs": [
    {
     "data": {
      "text/plain": [
       "'Precision.pdf'"
      ]
     },
     "execution_count": 22,
     "metadata": {},
     "output_type": "execute_result"
    }
   ],
   "source": [
    "dot_data = tree.export_graphviz(clf, out_file=None) \n",
    "graph = graphviz.Source(dot_data) \n",
    "graph.render(\"Precision\") "
   ]
  },
  {
   "cell_type": "code",
   "execution_count": null,
   "metadata": {},
   "outputs": [],
   "source": []
  },
  {
   "cell_type": "code",
   "execution_count": null,
   "metadata": {},
   "outputs": [],
   "source": []
  },
  {
   "cell_type": "code",
   "execution_count": null,
   "metadata": {},
   "outputs": [],
   "source": []
  },
  {
   "cell_type": "markdown",
   "metadata": {},
   "source": [
    "# PARETO FRONT"
   ]
  },
  {
   "cell_type": "code",
   "execution_count": 25,
   "metadata": {},
   "outputs": [],
   "source": [
    "cost_variables = ['Gen.', 'Prec.', 'Fit.']\n",
    "points = df[cost_variables].values"
   ]
  },
  {
   "cell_type": "markdown",
   "metadata": {},
   "source": [
    "Tried functions from https://stackoverflow.com/questions/32791911/fast-calculation-of-pareto-front-in-python"
   ]
  },
  {
   "cell_type": "code",
   "execution_count": 67,
   "metadata": {},
   "outputs": [],
   "source": [
    "# Very slow for many datapoints.  Fastest for many costs, most readable\n",
    "def is_pareto_efficient_dumb(costs):\n",
    "    \"\"\"\n",
    "    Find the pareto-efficient points\n",
    "    :param costs: An (n_points, n_costs) array\n",
    "    :return: A (n_points, ) boolean array, indicating whether each point is Pareto efficient\n",
    "    \"\"\"\n",
    "    is_efficient = np.ones(costs.shape[0], dtype = bool)\n",
    "    for i, c in enumerate(costs):\n",
    "        is_efficient[i] = np.all(np.any(costs[:i]<c, axis=1)) and np.all(np.any(costs[i+1:]<c, axis=1))\n",
    "        #CHANGED THIS TO MAXIMIZE IN STEAD OF MINIMIZE\n",
    "    return is_efficient\n",
    "\n",
    "\n",
    "# Fairly fast for many datapoints, less fast for many costs, somewhat readable\n",
    "def is_pareto_efficient_simple(costs):\n",
    "    \"\"\"\n",
    "    Find the pareto-efficient points\n",
    "    :param costs: An (n_points, n_costs) array\n",
    "    :return: A (n_points, ) boolean array, indicating whether each point is Pareto efficient\n",
    "    \"\"\"\n",
    "    is_efficient = np.ones(costs.shape[0], dtype = bool)\n",
    "    for i, c in enumerate(costs):\n",
    "        if is_efficient[i]:\n",
    "            is_efficient[is_efficient] = np.any(costs[is_efficient]>c, axis=1)  # Keep any point with a lower cost\n",
    "            #CHANGED TO MAXIMIZE IN STEAD OF MINIMIZE\n",
    "            is_efficient[i] = True  # And keep self\n",
    "    return is_efficient\n",
    "\n",
    "\n",
    "# Faster than is_pareto_efficient_simple, but less readable.\n",
    "def is_pareto_efficient(costs, return_mask = True):\n",
    "    \"\"\"\n",
    "    Find the pareto-efficient points\n",
    "    :param costs: An (n_points, n_costs) array\n",
    "    :param return_mask: True to return a mask\n",
    "    :return: An array of indices of pareto-efficient points.\n",
    "        If return_mask is True, this will be an (n_points, ) boolean array\n",
    "        Otherwise it will be a (n_efficient_points, ) integer array of indices.\n",
    "    \"\"\"\n",
    "    is_efficient = np.arange(costs.shape[0])\n",
    "    n_points = costs.shape[0]\n",
    "    next_point_index = 0  # Next index in the is_efficient array to search for\n",
    "    while next_point_index<len(costs):\n",
    "        nondominated_point_mask = np.any(costs>costs[next_point_index], axis=1)    #CHANGED TO MAXIMIZE IN STEAD OF MINIMIZE\n",
    "        nondominated_point_mask[next_point_index] = True\n",
    "        is_efficient = is_efficient[nondominated_point_mask]  # Remove dominated points\n",
    "        costs = costs[nondominated_point_mask]\n",
    "        next_point_index = np.sum(nondominated_point_mask[:next_point_index])+1\n",
    "    if return_mask:\n",
    "        is_efficient_mask = np.zeros(n_points, dtype = bool)\n",
    "        is_efficient_mask[is_efficient] = True\n",
    "        return is_efficient_mask\n",
    "    else:\n",
    "        return is_efficient"
   ]
  },
  {
   "cell_type": "code",
   "execution_count": 68,
   "metadata": {},
   "outputs": [],
   "source": [
    "def keep_efficient(pts):\n",
    "    'returns Pareto efficient row subset of pts'\n",
    "    # sort points by decreasing sum of coordinates\n",
    "    pts = pts[pts.sum(1).argsort()[::-1]]\n",
    "    # initialize a boolean mask for undominated points\n",
    "    # to avoid creating copies each iteration\n",
    "    undominated = np.ones(pts.shape[0], dtype=bool)\n",
    "    for i in range(pts.shape[0]):\n",
    "        # process each point in turn\n",
    "        n = pts.shape[0]\n",
    "        if i >= n:\n",
    "            break\n",
    "        # find all points not dominated by i\n",
    "        # since points are sorted by coordinate sum\n",
    "        # i cannot dominate any points in 1,...,i-1\n",
    "        undominated[i+1:n] = (pts[i+1:] <= pts[i]).any(1)    #CHANGED TO MAXIMIZE IN STEAD OF MINIMIZE\n",
    "        # keep points undominated so far\n",
    "        pts = pts[undominated[:n]]\n",
    "    return pts"
   ]
  },
  {
   "cell_type": "code",
   "execution_count": 73,
   "metadata": {},
   "outputs": [
    {
     "name": "stdout",
     "output_type": "stream",
     "text": [
      "[ True False False False False False False False False False False False\n",
      " False False False False False False False False False  True False False\n",
      " False False False False False False False False False False False False\n",
      " False False False False False  True False False False False False False\n",
      " False False False False False False False False False False False False\n",
      " False False False False False False False  True False False False False\n",
      " False False False False False False False False False False False False\n",
      " False False  True False False False False  True False False False False\n",
      " False False False False False False False False False  True  True False\n",
      " False False False False False False False False False False  True False\n",
      " False  True False False False False False False False False False  True\n",
      " False  True False False False False False False False False  True False\n",
      " False False False False False False False False False False False False\n",
      " False False False False False False False False False False False False\n",
      " False False False False False False False False False False False False]\n",
      "[[0.0551653  0.94764583 0.95508842]\n",
      " [0.05037272 0.94835417 0.95583205]\n",
      " [0.08592578 0.94763542 0.95482435]\n",
      " [0.80729495 0.94710417 0.94831418]\n",
      " [0.52193944 0.94723958 0.95086616]\n",
      " [0.12530659 0.94773958 0.95456347]\n",
      " [0.0088309  0.95064583 0.95849179]\n",
      " [0.16940967 0.94533333 0.95179965]\n",
      " [0.84478809 0.94195833 0.94282006]\n",
      " [0.16090415 0.947      0.95352337]\n",
      " [0.56445901 0.9463125  0.94955339]\n",
      " [0.81750834 0.94236458 0.94348247]\n",
      " [0.83409189 0.942375   0.94332363]]\n",
      "     Unnamed: 0  Embedding  Num_layers  Size  Dropout      Reg      Gen.  \\\n",
      "0             0       True           1    16      0.0  0.00000  0.055165   \n",
      "21           21       True           1    32      0.2  0.00001  0.050373   \n",
      "41           41       True           1    64      0.4  0.00001  0.085926   \n",
      "67           67       True           2    32      0.2  0.00010  0.807295   \n",
      "86           86       True           2    64      0.4  0.00001  0.521939   \n",
      "91           91      False           1    16      0.0  0.00001  0.125307   \n",
      "105         105      False           1    32      0.0  0.00000  0.008831   \n",
      "106         106      False           1    32      0.0  0.00001  0.169410   \n",
      "118         118      False           1    32      0.4  0.00100  0.844788   \n",
      "121         121      False           1    64      0.0  0.00001  0.160904   \n",
      "131         131      False           1    64      0.4  0.00001  0.564459   \n",
      "133         133      False           1    64      0.4  0.00100  0.817508   \n",
      "142         142      False           2    16      0.2  0.00010  0.834092   \n",
      "\n",
      "        Prec.      Fit.   average  \n",
      "0    0.947646  0.955088  0.652633  \n",
      "21   0.948354  0.955832  0.651520  \n",
      "41   0.947635  0.954824  0.662795  \n",
      "67   0.947104  0.948314  0.900904  \n",
      "86   0.947240  0.950866  0.806682  \n",
      "91   0.947740  0.954563  0.675870  \n",
      "105  0.950646  0.958492  0.639323  \n",
      "106  0.945333  0.951800  0.688848  \n",
      "118  0.941958  0.942820  0.909855  \n",
      "121  0.947000  0.953523  0.687143  \n",
      "131  0.946313  0.949553  0.820108  \n",
      "133  0.942365  0.943482  0.901118  \n",
      "142  0.942375  0.943324  0.906597  \n"
     ]
    }
   ],
   "source": [
    "print(is_pareto_efficient_dumb(points))\n",
    "\n",
    "pareto_optimal = np.where(is_pareto_efficient_dumb(points) == True)\n",
    "\n",
    "print(points[pareto_optimal])\n",
    "print(df.loc[pareto_optimal])"
   ]
  },
  {
   "cell_type": "code",
   "execution_count": 70,
   "metadata": {},
   "outputs": [
    {
     "name": "stdout",
     "output_type": "stream",
     "text": [
      "[ True False False False False False False False False False False False\n",
      " False False False False False False False False False  True False False\n",
      " False False False False False False False False False False False False\n",
      " False False False False False  True False False False False False False\n",
      " False False False False False False False False False False False False\n",
      " False False False False False False False  True False False False False\n",
      " False False False False False False False False False False False False\n",
      " False False  True False False False False  True False False False False\n",
      " False False False False False False False False False  True  True False\n",
      " False False False False False False False False False False  True False\n",
      " False  True False False False False False False False False False  True\n",
      " False  True False False False False False False False False  True False\n",
      " False False False False False False False False False False False False\n",
      " False False False False False False False False False False False False\n",
      " False False False False False False False False False False False False]\n",
      "[[0.0551653  0.94764583 0.95508842]\n",
      " [0.05037272 0.94835417 0.95583205]\n",
      " [0.08592578 0.94763542 0.95482435]\n",
      " [0.80729495 0.94710417 0.94831418]\n",
      " [0.52193944 0.94723958 0.95086616]\n",
      " [0.12530659 0.94773958 0.95456347]\n",
      " [0.0088309  0.95064583 0.95849179]\n",
      " [0.16940967 0.94533333 0.95179965]\n",
      " [0.84478809 0.94195833 0.94282006]\n",
      " [0.16090415 0.947      0.95352337]\n",
      " [0.56445901 0.9463125  0.94955339]\n",
      " [0.81750834 0.94236458 0.94348247]\n",
      " [0.83409189 0.942375   0.94332363]]\n",
      "     Unnamed: 0  Embedding  Num_layers  Size  Dropout      Reg      Gen.  \\\n",
      "0             0       True           1    16      0.0  0.00000  0.055165   \n",
      "21           21       True           1    32      0.2  0.00001  0.050373   \n",
      "41           41       True           1    64      0.4  0.00001  0.085926   \n",
      "67           67       True           2    32      0.2  0.00010  0.807295   \n",
      "86           86       True           2    64      0.4  0.00001  0.521939   \n",
      "91           91      False           1    16      0.0  0.00001  0.125307   \n",
      "105         105      False           1    32      0.0  0.00000  0.008831   \n",
      "106         106      False           1    32      0.0  0.00001  0.169410   \n",
      "118         118      False           1    32      0.4  0.00100  0.844788   \n",
      "121         121      False           1    64      0.0  0.00001  0.160904   \n",
      "131         131      False           1    64      0.4  0.00001  0.564459   \n",
      "133         133      False           1    64      0.4  0.00100  0.817508   \n",
      "142         142      False           2    16      0.2  0.00010  0.834092   \n",
      "\n",
      "        Prec.      Fit.   average  \n",
      "0    0.947646  0.955088  0.652633  \n",
      "21   0.948354  0.955832  0.651520  \n",
      "41   0.947635  0.954824  0.662795  \n",
      "67   0.947104  0.948314  0.900904  \n",
      "86   0.947240  0.950866  0.806682  \n",
      "91   0.947740  0.954563  0.675870  \n",
      "105  0.950646  0.958492  0.639323  \n",
      "106  0.945333  0.951800  0.688848  \n",
      "118  0.941958  0.942820  0.909855  \n",
      "121  0.947000  0.953523  0.687143  \n",
      "131  0.946313  0.949553  0.820108  \n",
      "133  0.942365  0.943482  0.901118  \n",
      "142  0.942375  0.943324  0.906597  \n"
     ]
    }
   ],
   "source": [
    "print(is_pareto_efficient_simple(points))\n",
    "\n",
    "pareto_optimal = np.where(is_pareto_efficient_simple(points) == True)\n",
    "\n",
    "print(points[pareto_optimal])\n",
    "print(df.loc[pareto_optimal])"
   ]
  },
  {
   "cell_type": "code",
   "execution_count": 71,
   "metadata": {},
   "outputs": [
    {
     "name": "stdout",
     "output_type": "stream",
     "text": [
      "[ True False False False False False False False False False False False\n",
      " False False False False False False False False False  True False False\n",
      " False False False False False False False False False False False False\n",
      " False False False False False  True False False False False False False\n",
      " False False False False False False False False False False False False\n",
      " False False False False False False False  True False False False False\n",
      " False False False False False False False False False False False False\n",
      " False False  True False False False False  True False False False False\n",
      " False False False False False False False False False  True  True False\n",
      " False False False False False False False False False False  True False\n",
      " False  True False False False False False False False False False  True\n",
      " False  True False False False False False False False False  True False\n",
      " False False False False False False False False False False False False\n",
      " False False False False False False False False False False False False\n",
      " False False False False False False False False False False False False]\n",
      "[[0.0551653  0.94764583 0.95508842]\n",
      " [0.05037272 0.94835417 0.95583205]\n",
      " [0.08592578 0.94763542 0.95482435]\n",
      " [0.80729495 0.94710417 0.94831418]\n",
      " [0.52193944 0.94723958 0.95086616]\n",
      " [0.12530659 0.94773958 0.95456347]\n",
      " [0.0088309  0.95064583 0.95849179]\n",
      " [0.16940967 0.94533333 0.95179965]\n",
      " [0.84478809 0.94195833 0.94282006]\n",
      " [0.16090415 0.947      0.95352337]\n",
      " [0.56445901 0.9463125  0.94955339]\n",
      " [0.81750834 0.94236458 0.94348247]\n",
      " [0.83409189 0.942375   0.94332363]]\n",
      "     Unnamed: 0  Embedding  Num_layers  Size  Dropout      Reg      Gen.  \\\n",
      "0             0       True           1    16      0.0  0.00000  0.055165   \n",
      "21           21       True           1    32      0.2  0.00001  0.050373   \n",
      "41           41       True           1    64      0.4  0.00001  0.085926   \n",
      "67           67       True           2    32      0.2  0.00010  0.807295   \n",
      "86           86       True           2    64      0.4  0.00001  0.521939   \n",
      "91           91      False           1    16      0.0  0.00001  0.125307   \n",
      "105         105      False           1    32      0.0  0.00000  0.008831   \n",
      "106         106      False           1    32      0.0  0.00001  0.169410   \n",
      "118         118      False           1    32      0.4  0.00100  0.844788   \n",
      "121         121      False           1    64      0.0  0.00001  0.160904   \n",
      "131         131      False           1    64      0.4  0.00001  0.564459   \n",
      "133         133      False           1    64      0.4  0.00100  0.817508   \n",
      "142         142      False           2    16      0.2  0.00010  0.834092   \n",
      "\n",
      "        Prec.      Fit.   average  \n",
      "0    0.947646  0.955088  0.652633  \n",
      "21   0.948354  0.955832  0.651520  \n",
      "41   0.947635  0.954824  0.662795  \n",
      "67   0.947104  0.948314  0.900904  \n",
      "86   0.947240  0.950866  0.806682  \n",
      "91   0.947740  0.954563  0.675870  \n",
      "105  0.950646  0.958492  0.639323  \n",
      "106  0.945333  0.951800  0.688848  \n",
      "118  0.941958  0.942820  0.909855  \n",
      "121  0.947000  0.953523  0.687143  \n",
      "131  0.946313  0.949553  0.820108  \n",
      "133  0.942365  0.943482  0.901118  \n",
      "142  0.942375  0.943324  0.906597  \n"
     ]
    }
   ],
   "source": [
    "print(is_pareto_efficient(points))\n",
    "\n",
    "pareto_optimal = np.where(is_pareto_efficient(points) == True)\n",
    "\n",
    "print(points[pareto_optimal])\n",
    "print(df.loc[pareto_optimal])"
   ]
  },
  {
   "cell_type": "code",
   "execution_count": 72,
   "metadata": {},
   "outputs": [
    {
     "name": "stdout",
     "output_type": "stream",
     "text": [
      "[[0.84478809 0.94195833 0.94282006]\n",
      " [0.83409189 0.942375   0.94332363]\n",
      " [0.82967254 0.94230208 0.94329345]\n",
      " [0.81880098 0.941875   0.94294659]\n",
      " [0.81750834 0.94236458 0.94348247]\n",
      " [0.80729495 0.94710417 0.94831418]\n",
      " [0.80345164 0.9411875  0.94240962]\n",
      " [0.79784075 0.94192708 0.94319674]\n",
      " [0.77931782 0.94242708 0.94384934]\n",
      " [0.77826444 0.94057292 0.94200006]\n",
      " [0.74728435 0.94477083 0.94647442]\n",
      " [0.76803414 0.932375   0.93381666]\n",
      " [0.74138935 0.94533333 0.9470738 ]\n",
      " [0.73254063 0.94415625 0.94601217]\n",
      " [0.7416228  0.93788542 0.93962694]\n",
      " [0.72832279 0.94352083 0.94537341]\n",
      " [0.72187866 0.94463542 0.94651664]\n",
      " [0.72313959 0.94396875 0.94585546]\n",
      " [0.71708336 0.94629167 0.9482596 ]\n",
      " [0.78008136 0.913      0.91414512]\n",
      " [0.73923434 0.93282292 0.934524  ]\n",
      " [0.71105323 0.94485417 0.94685436]\n",
      " [0.71431965 0.94277083 0.94471067]\n",
      " [0.70930419 0.94330208 0.94524682]\n",
      " [0.72280725 0.93558333 0.93742222]\n",
      " [0.77285009 0.90842708 0.9096059 ]\n",
      " [0.69705964 0.94277083 0.94483584]\n",
      " [0.69018259 0.94494792 0.94709451]\n",
      " [0.7544683  0.91309375 0.91450366]\n",
      " [0.68858811 0.94173958 0.94386901]\n",
      " [0.68687231 0.94244792 0.94460555]\n",
      " [0.74263686 0.91376042 0.91523759]\n",
      " [0.68193102 0.94320833 0.94545577]\n",
      " [0.70456322 0.93003125 0.93192992]\n",
      " [0.66434315 0.94477083 0.94708342]\n",
      " [0.71933941 0.91572917 0.91736702]\n",
      " [0.65178716 0.94233333 0.9448157 ]\n",
      " [0.71328279 0.90729167 0.90899207]\n",
      " [0.65966975 0.93358333 0.93595599]\n",
      " [0.65352107 0.93221875 0.93457491]\n",
      " [0.62974528 0.93948958 0.94208551]\n",
      " [0.64924967 0.92802083 0.93038537]\n",
      " [0.62105804 0.94002083 0.94274405]\n",
      " [0.620619   0.94021875 0.94294415]\n",
      " [0.61533975 0.94233333 0.9451092 ]\n",
      " [0.61140739 0.94428125 0.94707187]\n",
      " [0.64897178 0.92120833 0.9235536 ]\n",
      " [0.60606202 0.94053125 0.9433228 ]\n",
      " [0.62125026 0.93017708 0.93278661]\n",
      " [0.60007405 0.94057292 0.94343784]\n",
      " [0.61741109 0.93078125 0.93342364]\n",
      " [0.69787154 0.88982292 0.89150224]\n",
      " [0.56445901 0.9463125  0.94955339]\n",
      " [0.57168524 0.94142708 0.94449811]\n",
      " [0.62378373 0.91107292 0.91357173]\n",
      " [0.65010402 0.89792708 0.9000368 ]\n",
      " [0.52193944 0.94723958 0.95086616]\n",
      " [0.70438226 0.85545833 0.8567681 ]\n",
      " [0.52540646 0.94208333 0.94555029]\n",
      " [0.55136726 0.92557292 0.92870274]\n",
      " [0.51531354 0.94219792 0.94581129]\n",
      " [0.5085955  0.93926042 0.94291164]\n",
      " [0.50942977 0.938      0.94158159]\n",
      " [0.49997641 0.941875   0.94550895]\n",
      " [0.50770222 0.93571875 0.93927017]\n",
      " [0.55654992 0.90535417 0.90824477]\n",
      " [0.74588571 0.81022917 0.81081929]\n",
      " [0.50459835 0.91876042 0.92224322]\n",
      " [0.59761817 0.86719792 0.86943282]\n",
      " [0.43204729 0.94079167 0.94501417]\n",
      " [0.40443919 0.94207292 0.94657971]\n",
      " [0.73339524 0.77540625 0.77577517]\n",
      " [0.392171   0.9423125  0.94693702]\n",
      " [0.36448929 0.94445833 0.94933124]\n",
      " [0.35313856 0.94540625 0.95037162]\n",
      " [0.71717507 0.752125   0.75244483]\n",
      " [0.32874629 0.94184375 0.94695818]\n",
      " [0.32967944 0.93239583 0.93742175]\n",
      " [0.29386348 0.94296875 0.94851244]\n",
      " [0.28999041 0.94155208 0.94695811]\n",
      " [0.53653064 0.80576042 0.8080195 ]\n",
      " [0.24873225 0.94367708 0.94955415]\n",
      " [0.25799892 0.93615625 0.94182087]\n",
      " [0.23280487 0.93992708 0.94587681]\n",
      " [0.53176677 0.77001042 0.7719976 ]\n",
      " [0.16940967 0.94533333 0.95179965]\n",
      " [0.16090415 0.947      0.95352337]\n",
      " [0.16422595 0.94471875 0.95122188]\n",
      " [0.1439769  0.9435625  0.95033838]\n",
      " [0.14379308 0.94215625 0.94891123]\n",
      " [0.12530659 0.94773958 0.95456347]\n",
      " [0.09412244 0.94552083 0.95259892]\n",
      " [0.09449637 0.94455208 0.95162002]\n",
      " [0.08592578 0.94763542 0.95482435]\n",
      " [0.08160325 0.94661458 0.95382765]\n",
      " [0.08973797 0.94242708 0.94958493]\n",
      " [0.07953638 0.94659375 0.95383596]\n",
      " [0.07788704 0.94485417 0.95212502]\n",
      " [0.56466537 0.70420833 0.70544083]\n",
      " [0.0551653  0.94764583 0.95508842]\n",
      " [0.05037272 0.94835417 0.95583205]\n",
      " [0.04553067 0.94769792 0.9552244 ]\n",
      " [0.04723967 0.94646875 0.95396342]\n",
      " [0.0449495  0.94395833 0.95144204]\n",
      " [0.03182582 0.94771875 0.95534973]\n",
      " [0.03421995 0.94639583 0.95400708]\n",
      " [0.03569006 0.9453125  0.9529047 ]\n",
      " [0.03075949 0.94566667 0.95328089]\n",
      " [0.03124951 0.94517708 0.95279926]\n",
      " [0.030684   0.9448125  0.95242835]\n",
      " [0.02854875 0.94154167 0.94914192]\n",
      " [0.0088309  0.95064583 0.95849179]\n",
      " [0.01517063 0.94707292 0.95483681]\n",
      " [0.00543478 0.94903125 0.95688286]\n",
      " [0.00256741 0.9483125  0.9561902 ]\n",
      " [0.00123762 0.94878125 0.95667511]\n",
      " [0.00371074 0.94734375 0.95520257]\n",
      " [0.         0.94883333 0.95673828]\n",
      " [0.00119048 0.94805208 0.9559401 ]\n",
      " [0.00108696 0.948      0.95588669]\n",
      " [0.0049505  0.94592708 0.95376246]\n",
      " [0.00132979 0.94729167 0.95517042]\n",
      " [0.00743922 0.943875   0.95167508]\n",
      " [0.00462963 0.94525    0.95309504]\n",
      " [0.         0.94740625 0.95529889]\n",
      " [0.         0.94688542 0.95477263]\n",
      " [0.         0.94567708 0.9535558 ]\n",
      " [0.00417338 0.94341667 0.95124642]\n",
      " [0.00137363 0.94447917 0.95233812]\n",
      " [0.00123762 0.94434375 0.95219886]\n",
      " [0.         0.94454167 0.95240857]\n",
      " [0.00119048 0.943875   0.95172618]\n",
      " [0.52231458 0.6864375  0.6878198 ]\n",
      " [0.         0.94363542 0.95149872]\n",
      " [0.00119048 0.94265625 0.95050118]\n",
      " [0.01194531 0.93647917 0.94418525]\n",
      " [0.         0.94209375 0.94994359]\n",
      " [0.         0.94176042 0.94960575]\n",
      " [0.00462963 0.939375   0.94717234]\n",
      " [0.         0.94030208 0.94813295]\n",
      " [0.51034265 0.62359375 0.62459297]\n",
      " [0.4672803  0.5378125  0.53842546]\n",
      " [0.39694076 0.47689583 0.47755136]\n",
      " [0.31000455 0.48551042 0.4869609 ]\n",
      " [0.35045222 0.46427083 0.46530361]\n",
      " [0.26064333 0.376625   0.37763782]\n",
      " [0.234686   0.31114583 0.31184731]\n",
      " [0.23478095 0.30065625 0.30120729]\n",
      " [0.26858625 0.28364583 0.28377606]\n",
      " [0.24274414 0.29319792 0.29368105]\n",
      " [0.23947254 0.25733333 0.25748681]\n",
      " [0.20255207 0.27329167 0.27388589]\n",
      " [0.20266206 0.2308125  0.23106939]\n",
      " [0.15275973 0.23959375 0.24033413]\n",
      " [0.16069967 0.23109375 0.23163958]\n",
      " [0.16276316 0.22897917 0.22961246]\n",
      " [0.17137272 0.20555208 0.2058438 ]\n",
      " [0.14270503 0.15808333 0.15821921]\n",
      " [0.10543758 0.13601042 0.13626632]\n",
      " [0.11450074 0.12725    0.12736332]\n",
      " [0.09600111 0.11714583 0.11733422]\n",
      " [0.03437058 0.0391875  0.03923   ]\n",
      " [0.         0.         0.        ]\n",
      " [0.         0.         0.        ]\n",
      " [0.         0.         0.        ]\n",
      " [0.         0.         0.        ]\n",
      " [0.         0.         0.        ]\n",
      " [0.         0.         0.        ]\n",
      " [0.         0.         0.        ]\n",
      " [0.         0.         0.        ]\n",
      " [0.         0.         0.        ]\n",
      " [0.         0.         0.        ]\n",
      " [0.         0.         0.        ]\n",
      " [0.         0.         0.        ]\n",
      " [0.         0.         0.        ]\n",
      " [0.         0.         0.        ]\n",
      " [0.         0.         0.        ]\n",
      " [0.         0.         0.        ]\n",
      " [0.         0.         0.        ]\n",
      " [0.         0.         0.        ]]\n"
     ]
    }
   ],
   "source": [
    "print(keep_efficient(points))"
   ]
  },
  {
   "cell_type": "markdown",
   "metadata": {},
   "source": [
    "# Pareto front\n",
    "https://pythonhealthcare.org/tag/pareto-front/"
   ]
  },
  {
   "cell_type": "code",
   "execution_count": 78,
   "metadata": {},
   "outputs": [],
   "source": [
    "def identify_pareto(scores):\n",
    "    # Count number of items\n",
    "    population_size = scores.shape[0]\n",
    "    # Create a NumPy index for scores on the pareto front (zero indexed)\n",
    "    population_ids = np.arange(population_size)\n",
    "    # Create a starting list of items on the Pareto front\n",
    "    # All items start off as being labelled as on the Parteo front\n",
    "    pareto_front = np.ones(population_size, dtype=bool)\n",
    "    # Loop through each item. This will then be compared with all other items\n",
    "    for i in range(population_size):\n",
    "        # Loop through all other items\n",
    "        for j in range(population_size):\n",
    "            # Check if our 'i' pint is dominated by out 'j' point\n",
    "            if all(scores[j] >= scores[i]) and any(scores[j] > scores[i]):\n",
    "                # j dominates i. Label 'i' point as not on Pareto front\n",
    "                pareto_front[i] = 0\n",
    "                # Stop further comparisons with 'i' (no more comparisons needed)\n",
    "                break\n",
    "    # Return ids of scenarios on pareto front\n",
    "    return population_ids[pareto_front]"
   ]
  },
  {
   "cell_type": "code",
   "execution_count": 83,
   "metadata": {},
   "outputs": [
    {
     "name": "stdout",
     "output_type": "stream",
     "text": [
      "[  0  21  41  67  86  91 105 106 118 121 131 133 142]\n",
      "[[0.0551653  0.94764583 0.95508842]\n",
      " [0.05037272 0.94835417 0.95583205]\n",
      " [0.08592578 0.94763542 0.95482435]\n",
      " [0.80729495 0.94710417 0.94831418]\n",
      " [0.52193944 0.94723958 0.95086616]\n",
      " [0.12530659 0.94773958 0.95456347]\n",
      " [0.0088309  0.95064583 0.95849179]\n",
      " [0.16940967 0.94533333 0.95179965]\n",
      " [0.84478809 0.94195833 0.94282006]\n",
      " [0.16090415 0.947      0.95352337]\n",
      " [0.56445901 0.9463125  0.94955339]\n",
      " [0.81750834 0.94236458 0.94348247]\n",
      " [0.83409189 0.942375   0.94332363]]\n",
      "     Unnamed: 0  Embedding  Num_layers  Size  Dropout      Reg      Gen.  \\\n",
      "0             0       True           1    16      0.0  0.00000  0.055165   \n",
      "21           21       True           1    32      0.2  0.00001  0.050373   \n",
      "41           41       True           1    64      0.4  0.00001  0.085926   \n",
      "67           67       True           2    32      0.2  0.00010  0.807295   \n",
      "86           86       True           2    64      0.4  0.00001  0.521939   \n",
      "91           91      False           1    16      0.0  0.00001  0.125307   \n",
      "105         105      False           1    32      0.0  0.00000  0.008831   \n",
      "106         106      False           1    32      0.0  0.00001  0.169410   \n",
      "118         118      False           1    32      0.4  0.00100  0.844788   \n",
      "121         121      False           1    64      0.0  0.00001  0.160904   \n",
      "131         131      False           1    64      0.4  0.00001  0.564459   \n",
      "133         133      False           1    64      0.4  0.00100  0.817508   \n",
      "142         142      False           2    16      0.2  0.00010  0.834092   \n",
      "\n",
      "        Prec.      Fit.   average  \n",
      "0    0.947646  0.955088  0.652633  \n",
      "21   0.948354  0.955832  0.651520  \n",
      "41   0.947635  0.954824  0.662795  \n",
      "67   0.947104  0.948314  0.900904  \n",
      "86   0.947240  0.950866  0.806682  \n",
      "91   0.947740  0.954563  0.675870  \n",
      "105  0.950646  0.958492  0.639323  \n",
      "106  0.945333  0.951800  0.688848  \n",
      "118  0.941958  0.942820  0.909855  \n",
      "121  0.947000  0.953523  0.687143  \n",
      "131  0.946313  0.949553  0.820108  \n",
      "133  0.942365  0.943482  0.901118  \n",
      "142  0.942375  0.943324  0.906597  \n"
     ]
    }
   ],
   "source": [
    "print(identify_pareto(points))\n",
    "\n",
    "pareto_optimal = identify_pareto(points)\n",
    "\n",
    "print(points[pareto_optimal.tolist()])\n",
    "print(df.loc[pareto_optimal.tolist()])"
   ]
  },
  {
   "cell_type": "code",
   "execution_count": null,
   "metadata": {},
   "outputs": [],
   "source": []
  },
  {
   "cell_type": "code",
   "execution_count": null,
   "metadata": {},
   "outputs": [],
   "source": []
  }
 ],
 "metadata": {
  "kernelspec": {
   "display_name": "Python 3",
   "language": "python",
   "name": "python3"
  },
  "language_info": {
   "codemirror_mode": {
    "name": "ipython",
    "version": 3
   },
   "file_extension": ".py",
   "mimetype": "text/x-python",
   "name": "python",
   "nbconvert_exporter": "python",
   "pygments_lexer": "ipython3",
   "version": "3.8.3"
  }
 },
 "nbformat": 4,
 "nbformat_minor": 4
}
