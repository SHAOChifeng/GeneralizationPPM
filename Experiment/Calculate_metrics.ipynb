{
 "cells": [
  {
   "cell_type": "code",
   "execution_count": 1,
   "metadata": {},
   "outputs": [],
   "source": [
    "import numpy as np\n",
    "\n",
    "import pandas as pd\n",
    "\n",
    "import json\n",
    "\n",
    "import copy\n",
    "\n",
    "import math\n",
    "\n",
    "\n",
    "import numpy as np\n",
    "import matplotlib.pyplot as plt\n",
    "\n",
    "import statistics\n"
   ]
  },
  {
   "cell_type": "code",
   "execution_count": 2,
   "metadata": {},
   "outputs": [],
   "source": [
    "def get_average_and_std(lst):\n",
    "    return(sum(lst)/len(lst), statistics.stdev(lst))"
   ]
  },
  {
   "cell_type": "code",
   "execution_count": 3,
   "metadata": {},
   "outputs": [],
   "source": [
    "\n",
    "\n",
    "def import_log(filepath):\n",
    "    df = pd.read_csv(filepath)\n",
    "    return(df.values.tolist())\n",
    "\n",
    "def remove_nan(lists):\n",
    "    newlists = []\n",
    "    for tr in lists:\n",
    "        newlists.append([int(x) for x in tr if str(x) != 'nan'])\n",
    "    return(newlists)\n",
    "\n",
    "\n",
    "\n",
    "def delete_variant(log, variant):\n",
    "    return([trace for trace in log if trace != variant])\n",
    "\n",
    "def get_variants_list(lst): #get all of the variants in a list, return as list\n",
    "    st = set(tuple(i) for i in lst) #convert list into set of tuples\n",
    "    lst2 = list(st) #convert set of tuples into lsit of tuples\n",
    "    return [list(e) for e in lst2] \n",
    "\n",
    "def count_variant(log, variant): #count how many times a variant comes up in list\n",
    "    c = 0\n",
    "    for trace in log:\n",
    "        if trace == variant:\n",
    "            c += 1\n",
    "    return(c)\n",
    "\n",
    "def compare_variants(var1, var2): #compare two logs, what comes up in the other \n",
    "    s1 = set(tuple(i) for i in var1)\n",
    "    s2 = set(tuple(i) for i in var2)\n",
    "    \n",
    "   # print(\"Missing values in second list:\", (s1.difference(s2))) \n",
    "   # print(\"Additional values in second list:\", (s2.difference(s1))) \n",
    "    \n",
    "    return([list(e) for e in list(s1.difference(s2))],[list(e) for e in list(s2.difference(s1))])\n",
    "\n",
    "def demap_trace(t, mapping): #unmap trace, from number encoding to activity label\n",
    "    map = {v: k for k, v in mapping.items()}\n",
    "    return [map[a] for a in t]\n",
    "\n",
    "\n",
    "\n",
    "def apply_integer_map(log, map):\n",
    "    return [[map[a['concept:name']] for a in t] for t in log]\n",
    "\n",
    "#fucntion gets the counts of all of the variants \n",
    "\n",
    "def get_counts(log, variants):\n",
    "    counts = []\n",
    "    for var in variants:\n",
    "        counts.append(count_variant(log, var))\n",
    "    return counts\n",
    "\n",
    "\n",
    "def get_fitness(occ_each_trvar_sim, occ_each_trvar_tr):\n",
    "    arr = [min(occ_each_trvar_sim[i], occ_each_trvar_tr[i])/sum(occ_each_trvar_tr) for i in range(0, len(occ_each_trvar_sim))]\n",
    "    return sum(arr)\n",
    "\n",
    "def get_precision(occ_each_simvar_sim, occ_each_simvar_trte):\n",
    "    arr = [min(occ_each_simvar_sim[i], occ_each_simvar_trte[i])/sum(occ_each_simvar_sim) for i in range(0, len(occ_each_simvar_sim))]\n",
    "    return sum(arr)\n",
    "\n",
    "def get_generalization(occ_each_tevar_sim, occ_each_tevar_te):\n",
    "    arr = [min(occ_each_tevar_sim[i], occ_each_tevar_te[i])/sum(occ_each_tevar_te) for i in range(0, len(occ_each_tevar_sim))]\n",
    "    return sum(arr)"
   ]
  },
  {
   "cell_type": "code",
   "execution_count": 4,
   "metadata": {},
   "outputs": [],
   "source": [
    "def get_metrics(filename):\n",
    "    \n",
    "    variants = remove_nan(import_log(filename+'/variants.csv'))\n",
    "    traintestlog = remove_nan(import_log(filename+'/Full_traintest_log.csv'))\n",
    "    \n",
    "    overall_counts = get_counts(traintestlog, variants)\n",
    "    \n",
    "    fitness_arr = []\n",
    "    precision_arr = []\n",
    "    generalization_arr = []\n",
    "    \n",
    "    counts_te = [0]*len(variants)\n",
    "    counts_av = [0]*len(variants)\n",
    "\n",
    "    for variant in range(0,len(variants)):\n",
    "        trainname = filename+'/Train_sets/log_'+str(variant)+'.csv'\n",
    "        trainlog = remove_nan(import_log(trainname))\n",
    "\n",
    "        SimLogName = filename+'/Sim_sets/log_'+str(variant)+'.csv'\n",
    "        simlog = remove_nan(import_log(SimLogName))\n",
    "        \n",
    "        TestLogName = filename+'/Test_sets/log_'+str(variant)+'.csv'\n",
    "        testlog = remove_nan(import_log(TestLogName))\n",
    "        \n",
    "        #to update counts\n",
    "        allvar_counts_sim = get_counts(simlog, variants)\n",
    "        counts_te[variant] = allvar_counts_sim[variant]\n",
    "        allvar_counts_sim[variant] = 0\n",
    "        counts_av = [sum(x) for x in zip(counts_av, allvar_counts_sim)]\n",
    "    \n",
    "        \n",
    "        #needed to calculate metrics\n",
    "        trvar = get_variants_list(trainlog)\n",
    "        simvar = get_variants_list(simlog)\n",
    "        tevar = get_variants_list(testlog) #this is unique tot eh one-hot seting, needs to be altered when using bigger test set\n",
    "\n",
    "        #get counts for the simulated log\n",
    "        occ_each_trvar_sim = get_counts(simlog, trvar)\n",
    "        occ_each_tevar_sim = get_counts(simlog, tevar)\n",
    "        occ_each_simvar_sim = get_counts(simlog, simvar)\n",
    "\n",
    "        #get counts for the train log\n",
    "        occ_each_trvar_tr = get_counts(trainlog, trvar)\n",
    "\n",
    "        #get counts for the test log\n",
    "        occ_each_tevar_te = get_counts(testlog, tevar)\n",
    "\n",
    "        #get counts for the train test log\n",
    "        occ_each_simvar_trte = get_counts(traintestlog, simvar)\n",
    "\n",
    "        fitness_arr.append(get_fitness(occ_each_trvar_sim, occ_each_trvar_tr))\n",
    "        precision_arr.append(get_precision(occ_each_simvar_sim, occ_each_simvar_trte))\n",
    "        generalization_arr.append(get_generalization(occ_each_tevar_sim, occ_each_tevar_te))\n",
    "\n",
    "    av_gen = sum(generalization_arr)/len(variants)\n",
    "    av_prec = sum(precision_arr)/len(variants)\n",
    "    av_fit = sum(fitness_arr)/len(variants)\n",
    "    \n",
    "    \n",
    "    counts_av = [number / (len(variants)-1) for number in counts_av]\n",
    "    \n",
    "    print(\"precision:\", get_average_and_std(precision_arr))\n",
    "    print(\"fitness:\", get_average_and_std(fitness_arr))\n",
    "    print(\"generalization:\", get_average_and_std(generalization_arr))\n",
    "    \n",
    "    return(av_gen, av_prec, av_fit, counts_av, counts_te, overall_counts)"
   ]
  },
  {
   "cell_type": "code",
   "execution_count": null,
   "metadata": {},
   "outputs": [],
   "source": []
  },
  {
   "cell_type": "code",
   "execution_count": 5,
   "metadata": {},
   "outputs": [],
   "source": [
    "variants = remove_nan(import_log('IOR_full_variants'+'/variants.csv'))"
   ]
  },
  {
   "cell_type": "code",
   "execution_count": 6,
   "metadata": {},
   "outputs": [
    {
     "name": "stdout",
     "output_type": "stream",
     "text": [
      "[[4, 10, 6, 14, 11, 18, 5, 8, 17, 3, 15, 7, 12, 16, 9, 1], [4, 10, 6, 14, 11, 18, 5, 8, 17, 3, 15, 7, 12, 13, 16, 9, 1], [4, 10, 6, 14, 11, 18, 5, 8, 17, 3, 15, 7, 13, 12, 16, 9, 1], [4, 10, 6, 14, 11, 18, 5, 8, 17, 3, 15, 7, 13, 16, 9, 1], [4, 10, 6, 14, 11, 18, 5, 8, 17, 2, 3, 15, 7, 12, 16, 9, 1], [4, 10, 6, 14, 11, 18, 5, 8, 17, 2, 3, 15, 7, 12, 13, 16, 9, 1], [4, 10, 6, 14, 11, 18, 5, 8, 17, 2, 3, 15, 7, 13, 12, 16, 9, 1], [4, 10, 6, 14, 11, 18, 5, 8, 17, 2, 3, 15, 7, 13, 16, 9, 1], [4, 10, 6, 14, 11, 18, 5, 8, 2, 3, 15, 7, 12, 16, 9, 1], [4, 10, 6, 14, 11, 18, 5, 8, 2, 3, 15, 7, 12, 13, 16, 9, 1], [4, 10, 6, 14, 11, 18, 5, 8, 2, 3, 15, 7, 13, 12, 16, 9, 1], [4, 10, 6, 14, 11, 18, 5, 8, 2, 3, 15, 7, 13, 16, 9, 1], [4, 10, 6, 14, 11, 18, 5, 8, 2, 17, 3, 15, 7, 12, 16, 9, 1], [4, 10, 6, 14, 11, 18, 5, 8, 2, 17, 3, 15, 7, 12, 13, 16, 9, 1], [4, 10, 6, 14, 11, 18, 5, 8, 2, 17, 3, 15, 7, 13, 12, 16, 9, 1], [4, 10, 6, 14, 11, 18, 5, 8, 2, 17, 3, 15, 7, 13, 16, 9, 1], [4, 10, 6, 14, 18, 5, 8, 17, 3, 15, 7, 12, 16, 9, 1], [4, 10, 6, 14, 18, 5, 8, 17, 3, 15, 7, 12, 13, 16, 9, 1], [4, 10, 6, 14, 18, 5, 8, 17, 3, 15, 7, 13, 12, 16, 9, 1], [4, 10, 6, 14, 18, 5, 8, 17, 3, 15, 7, 13, 16, 9, 1], [4, 10, 6, 14, 18, 5, 8, 17, 2, 3, 15, 7, 12, 16, 9, 1], [4, 10, 6, 14, 18, 5, 8, 17, 2, 3, 15, 7, 12, 13, 16, 9, 1], [4, 10, 6, 14, 18, 5, 8, 17, 2, 3, 15, 7, 13, 12, 16, 9, 1], [4, 10, 6, 14, 18, 5, 8, 17, 2, 3, 15, 7, 13, 16, 9, 1], [4, 10, 6, 14, 18, 5, 8, 2, 3, 15, 7, 12, 16, 9, 1], [4, 10, 6, 14, 18, 5, 8, 2, 3, 15, 7, 12, 13, 16, 9, 1], [4, 10, 6, 14, 18, 5, 8, 2, 3, 15, 7, 13, 12, 16, 9, 1], [4, 10, 6, 14, 18, 5, 8, 2, 3, 15, 7, 13, 16, 9, 1], [4, 10, 6, 14, 18, 5, 8, 2, 17, 3, 15, 7, 12, 16, 9, 1], [4, 10, 6, 14, 18, 5, 8, 2, 17, 3, 15, 7, 12, 13, 16, 9, 1], [4, 10, 6, 14, 18, 5, 8, 2, 17, 3, 15, 7, 13, 12, 16, 9, 1], [4, 10, 6, 14, 18, 5, 8, 2, 17, 3, 15, 7, 13, 16, 9, 1], [4, 10, 6, 11, 14, 18, 5, 8, 17, 3, 15, 7, 12, 16, 9, 1], [4, 10, 6, 11, 14, 18, 5, 8, 17, 3, 15, 7, 12, 13, 16, 9, 1], [4, 10, 6, 11, 14, 18, 5, 8, 17, 3, 15, 7, 13, 12, 16, 9, 1], [4, 10, 6, 11, 14, 18, 5, 8, 17, 3, 15, 7, 13, 16, 9, 1], [4, 10, 6, 11, 14, 18, 5, 8, 17, 2, 3, 15, 7, 12, 16, 9, 1], [4, 10, 6, 11, 14, 18, 5, 8, 17, 2, 3, 15, 7, 12, 13, 16, 9, 1], [4, 10, 6, 11, 14, 18, 5, 8, 17, 2, 3, 15, 7, 13, 12, 16, 9, 1], [4, 10, 6, 11, 14, 18, 5, 8, 17, 2, 3, 15, 7, 13, 16, 9, 1], [4, 10, 6, 11, 14, 18, 5, 8, 2, 3, 15, 7, 12, 16, 9, 1], [4, 10, 6, 11, 14, 18, 5, 8, 2, 3, 15, 7, 12, 13, 16, 9, 1], [4, 10, 6, 11, 14, 18, 5, 8, 2, 3, 15, 7, 13, 12, 16, 9, 1], [4, 10, 6, 11, 14, 18, 5, 8, 2, 3, 15, 7, 13, 16, 9, 1], [4, 10, 6, 11, 14, 18, 5, 8, 2, 17, 3, 15, 7, 12, 16, 9, 1], [4, 10, 6, 11, 14, 18, 5, 8, 2, 17, 3, 15, 7, 12, 13, 16, 9, 1], [4, 10, 6, 11, 14, 18, 5, 8, 2, 17, 3, 15, 7, 13, 12, 16, 9, 1], [4, 10, 6, 11, 14, 18, 5, 8, 2, 17, 3, 15, 7, 13, 16, 9, 1], [4, 10, 6, 11, 18, 5, 8, 17, 3, 15, 7, 12, 16, 9, 1], [4, 10, 6, 11, 18, 5, 8, 17, 3, 15, 7, 12, 13, 16, 9, 1], [4, 10, 6, 11, 18, 5, 8, 17, 3, 15, 7, 13, 12, 16, 9, 1], [4, 10, 6, 11, 18, 5, 8, 17, 3, 15, 7, 13, 16, 9, 1], [4, 10, 6, 11, 18, 5, 8, 17, 2, 3, 15, 7, 12, 16, 9, 1], [4, 10, 6, 11, 18, 5, 8, 17, 2, 3, 15, 7, 12, 13, 16, 9, 1], [4, 10, 6, 11, 18, 5, 8, 17, 2, 3, 15, 7, 13, 12, 16, 9, 1], [4, 10, 6, 11, 18, 5, 8, 17, 2, 3, 15, 7, 13, 16, 9, 1], [4, 10, 6, 11, 18, 5, 8, 2, 3, 15, 7, 12, 16, 9, 1], [4, 10, 6, 11, 18, 5, 8, 2, 3, 15, 7, 12, 13, 16, 9, 1], [4, 10, 6, 11, 18, 5, 8, 2, 3, 15, 7, 13, 12, 16, 9, 1], [4, 10, 6, 11, 18, 5, 8, 2, 3, 15, 7, 13, 16, 9, 1], [4, 10, 6, 11, 18, 5, 8, 2, 17, 3, 15, 7, 12, 16, 9, 1], [4, 10, 6, 11, 18, 5, 8, 2, 17, 3, 15, 7, 12, 13, 16, 9, 1], [4, 10, 6, 11, 18, 5, 8, 2, 17, 3, 15, 7, 13, 12, 16, 9, 1], [4, 10, 6, 11, 18, 5, 8, 2, 17, 3, 15, 7, 13, 16, 9, 1]]\n"
     ]
    }
   ],
   "source": [
    "print(variants)"
   ]
  },
  {
   "cell_type": "code",
   "execution_count": null,
   "metadata": {},
   "outputs": [],
   "source": []
  },
  {
   "cell_type": "code",
   "execution_count": 7,
   "metadata": {},
   "outputs": [
    {
     "name": "stdout",
     "output_type": "stream",
     "text": [
      "precision: (0.946748697916667, 0.0070453070829587456)\n",
      "fitness: (0.9504679221690834, 0.0046112116208474946)\n",
      "generalization: (0.7492331537154316, 0.1346009996448589)\n"
     ]
    }
   ],
   "source": [
    "gen, prec, fit, counts, testcounts, overall_counts = get_metrics('IOR_full_variants')"
   ]
  },
  {
   "cell_type": "code",
   "execution_count": 8,
   "metadata": {},
   "outputs": [
    {
     "name": "stdout",
     "output_type": "stream",
     "text": [
      "0.779027128656243\n"
     ]
    }
   ],
   "source": [
    "ratio = 0\n",
    "for i in range(len(counts)):\n",
    "    ratio += testcounts[i]/counts[i]\n",
    "ratio = ratio/len(counts)\n",
    "\n",
    "print(ratio)"
   ]
  },
  {
   "cell_type": "code",
   "execution_count": 9,
   "metadata": {},
   "outputs": [
    {
     "name": "stdout",
     "output_type": "stream",
     "text": [
      "0.7492331537154316 0.946748697916667 0.9504679221690834\n"
     ]
    }
   ],
   "source": [
    "print(gen, prec, fit)"
   ]
  },
  {
   "cell_type": "code",
   "execution_count": 10,
   "metadata": {},
   "outputs": [
    {
     "name": "stdout",
     "output_type": "stream",
     "text": [
      "0.779027128656243\n"
     ]
    }
   ],
   "source": [
    "ratio = 0\n",
    "for i in range(len(counts)):\n",
    "    ratio += testcounts[i]/counts[i]\n",
    "ratio = ratio/len(counts)\n",
    "\n",
    "print(ratio)"
   ]
  },
  {
   "cell_type": "code",
   "execution_count": 11,
   "metadata": {},
   "outputs": [
    {
     "name": "stdout",
     "output_type": "stream",
     "text": [
      "64\n"
     ]
    }
   ],
   "source": [
    "print(len(counts))"
   ]
  },
  {
   "cell_type": "code",
   "execution_count": 12,
   "metadata": {},
   "outputs": [],
   "source": [
    "overall_counts, counts, testcounts = zip(*sorted(zip(overall_counts, counts, testcounts), reverse=True))"
   ]
  },
  {
   "cell_type": "code",
   "execution_count": 13,
   "metadata": {},
   "outputs": [
    {
     "data": {
      "image/png": "[encoded data removed]",
      "text/plain": [
       "<Figure size 432x288 with 1 Axes>"
      ]
     },
     "metadata": {
      "needs_background": "light"
     },
     "output_type": "display_data"
    }
   ],
   "source": [
    "x = np.arange(len(counts))\n",
    "\n",
    "\n",
    "width = 0.35 \n",
    "\n",
    "fig, ax = plt.subplots()\n",
    "rects1 = ax.bar(x - width/2, counts, width, label='Average counts in Sim. Log when variant in Training Log')\n",
    "rects2 = ax.bar(x + width/2, testcounts, width, label='Count in Sim. Log when variant in Test Log')\n",
    "\n",
    "# Add some text for labels, title and custom x-axis tick labels, etc.\n",
    "ax.set_ylabel('Counts in simulated log (12.000)')\n",
    "ax.set_xlabel('Variant (Full Train+Test Log)')\n",
    "ax.set_title('Model 4')\n",
    "#ax.set_xticks(x)\n",
    "#ax.set_xticklabels(x)\n",
    "ax.legend()\n",
    "\n",
    "\n",
    "fig.tight_layout()\n",
    "\n",
    "plt.savefig('Plot_Model4.pdf')\n",
    "\n",
    "plt.show()"
   ]
  },
  {
   "cell_type": "code",
   "execution_count": null,
   "metadata": {},
   "outputs": [],
   "source": []
  },
  {
   "cell_type": "code",
   "execution_count": 14,
   "metadata": {},
   "outputs": [
    {
     "name": "stdout",
     "output_type": "stream",
     "text": [
      "precision: (0.928712962962961, 0.012993862237243196)\n",
      "fitness: (0.9310744742301992, 0.005461913829492022)\n",
      "generalization: (0.9226935438232521, 0.10631170726940714)\n"
     ]
    }
   ],
   "source": [
    "gen, prec, fit, counts, testcounts, overall_counts = get_metrics('Loop3x2_full_variants')  #have to change -> more variants possible than variants"
   ]
  },
  {
   "cell_type": "code",
   "execution_count": 15,
   "metadata": {},
   "outputs": [
    {
     "name": "stdout",
     "output_type": "stream",
     "text": [
      "0.9302607058094888\n"
     ]
    }
   ],
   "source": [
    "ratio = 0\n",
    "for i in range(len(counts)):\n",
    "    ratio += testcounts[i]/counts[i]\n",
    "ratio = ratio/len(counts)\n",
    "\n",
    "print(ratio)"
   ]
  },
  {
   "cell_type": "code",
   "execution_count": 16,
   "metadata": {},
   "outputs": [
    {
     "name": "stdout",
     "output_type": "stream",
     "text": [
      "0.9226935438232521 0.928712962962961 0.9310744742301992\n"
     ]
    }
   ],
   "source": [
    "print(gen, prec, fit)"
   ]
  },
  {
   "cell_type": "code",
   "execution_count": 17,
   "metadata": {},
   "outputs": [],
   "source": [
    "overall_counts, counts, testcounts = zip(*sorted(zip(overall_counts, counts, testcounts), reverse=True))"
   ]
  },
  {
   "cell_type": "code",
   "execution_count": 18,
   "metadata": {},
   "outputs": [
    {
     "data": {
      "image/png": "[encoded data removed]",
      "text/plain": [
       "<Figure size 432x288 with 1 Axes>"
      ]
     },
     "metadata": {
      "needs_background": "light"
     },
     "output_type": "display_data"
    }
   ],
   "source": [
    "x = np.arange(len(counts))\n",
    "\n",
    "width = 0.35 \n",
    "\n",
    "fig, ax = plt.subplots()\n",
    "rects1 = ax.bar(x - width/2, counts, width, label='Average counts in Sim. Log when variant in Training Log')\n",
    "rects2 = ax.bar(x + width/2, testcounts, width, label='Count in Sim. Log when variant in Test Log')\n",
    "\n",
    "\n",
    "# Add some text for labels, title and custom x-axis tick labels, etc.\n",
    "ax.set_ylabel('Counts in simulated log (12.000)')\n",
    "ax.set_xlabel('Variant (Full Train+Test Log)')\n",
    "ax.set_title('Model 6')\n",
    "#ax.set_xticks(x)\n",
    "#ax.set_xticklabels(x)\n",
    "ax.legend()\n",
    "\n",
    "\n",
    "fig.tight_layout()\n",
    "\n",
    "plt.savefig('Plot_Model6.pdf')\n",
    "\n",
    "plt.show()"
   ]
  },
  {
   "cell_type": "code",
   "execution_count": null,
   "metadata": {},
   "outputs": [],
   "source": []
  },
  {
   "cell_type": "code",
   "execution_count": 19,
   "metadata": {},
   "outputs": [
    {
     "name": "stdout",
     "output_type": "stream",
     "text": [
      "precision: (0.9397222222222225, 0.0033848838282824756)\n",
      "fitness: (0.9410368611547705, 0.003431786370130281)\n",
      "generalization: (0.7916998098760157, 0.12122158317999344)\n"
     ]
    }
   ],
   "source": [
    "gen, prec, fit, counts, testcounts, overall_counts = get_metrics('Parallel_full_variants')"
   ]
  },
  {
   "cell_type": "code",
   "execution_count": 20,
   "metadata": {},
   "outputs": [
    {
     "name": "stdout",
     "output_type": "stream",
     "text": [
      "0.7882175134259372\n"
     ]
    }
   ],
   "source": [
    "ratio = 0\n",
    "for i in range(len(counts)):\n",
    "    ratio += testcounts[i]/counts[i]\n",
    "ratio = ratio/len(counts)\n",
    "\n",
    "print(ratio)"
   ]
  },
  {
   "cell_type": "code",
   "execution_count": 21,
   "metadata": {},
   "outputs": [
    {
     "name": "stdout",
     "output_type": "stream",
     "text": [
      "0.7916998098760157 0.9397222222222225 0.9410368611547705\n"
     ]
    }
   ],
   "source": [
    "print(gen, prec, fit)"
   ]
  },
  {
   "cell_type": "code",
   "execution_count": 22,
   "metadata": {},
   "outputs": [],
   "source": [
    "overall_counts, counts, testcounts = zip(*sorted(zip(overall_counts, counts, testcounts), reverse=True))"
   ]
  },
  {
   "cell_type": "code",
   "execution_count": 23,
   "metadata": {},
   "outputs": [
    {
     "data": {
      "image/png": "[encoded data removed]",
      "text/plain": [
       "<Figure size 432x288 with 1 Axes>"
      ]
     },
     "metadata": {
      "needs_background": "light"
     },
     "output_type": "display_data"
    }
   ],
   "source": [
    "x = np.arange(len(counts))\n",
    "\n",
    "\n",
    "\n",
    "width = 0.35 \n",
    "\n",
    "fig, ax = plt.subplots()\n",
    "rects1 = ax.bar(x - width/2, counts, width, label='Average counts in Sim. Log when variant in Training Log')\n",
    "rects2 = ax.bar(x + width/2, testcounts, width, label='Count in Sim. Log when variant in Test Log')\n",
    "\n",
    "\n",
    "# Add some text for labels, title and custom x-axis tick labels, etc.\n",
    "ax.set_ylabel('Counts in simulated log (12.000)')\n",
    "ax.set_xlabel('Variant (Full Train+Test Log)')\n",
    "ax.set_title('Model 1')\n",
    "#ax.set_xticks(x)\n",
    "#ax.set_xticklabels(x)\n",
    "ax.legend()\n",
    "\n",
    "\n",
    "fig.tight_layout()\n",
    "\n",
    "plt.savefig('Plot_Model1.pdf')\n",
    "\n",
    "plt.show()"
   ]
  },
  {
   "cell_type": "code",
   "execution_count": null,
   "metadata": {},
   "outputs": [],
   "source": []
  },
  {
   "cell_type": "code",
   "execution_count": 24,
   "metadata": {},
   "outputs": [
    {
     "name": "stdout",
     "output_type": "stream",
     "text": [
      "precision: (0.9422128906249997, 0.003222005900784246)\n",
      "fitness: (0.9424303182661878, 0.0032924588237100154)\n",
      "generalization: (0.9206069008882375, 0.0925707393396214)\n"
     ]
    }
   ],
   "source": [
    "gen, prec, fit, counts, testcounts, overall_counts = get_metrics('XOR_full_variants')"
   ]
  },
  {
   "cell_type": "code",
   "execution_count": 25,
   "metadata": {},
   "outputs": [
    {
     "name": "stdout",
     "output_type": "stream",
     "text": [
      "0.9206069008882375 0.9422128906249997 0.9424303182661878\n"
     ]
    }
   ],
   "source": [
    "print(gen, prec, fit)"
   ]
  },
  {
   "cell_type": "code",
   "execution_count": 26,
   "metadata": {},
   "outputs": [
    {
     "name": "stdout",
     "output_type": "stream",
     "text": [
      "0.9532974425727953\n"
     ]
    }
   ],
   "source": [
    "ratio = 0\n",
    "for i in range(len(counts)):\n",
    "    ratio += testcounts[i]/counts[i]\n",
    "ratio = ratio/len(counts)\n",
    "\n",
    "print(ratio)"
   ]
  },
  {
   "cell_type": "code",
   "execution_count": 27,
   "metadata": {},
   "outputs": [],
   "source": [
    "overall_counts, counts, testcounts = zip(*sorted(zip(overall_counts, counts, testcounts), reverse=True))"
   ]
  },
  {
   "cell_type": "code",
   "execution_count": 28,
   "metadata": {},
   "outputs": [
    {
     "data": {
      "image/png": "[encoded data removed]",
      "text/plain": [
       "<Figure size 432x288 with 1 Axes>"
      ]
     },
     "metadata": {
      "needs_background": "light"
     },
     "output_type": "display_data"
    }
   ],
   "source": [
    "x = np.arange(len(counts))\n",
    "\n",
    "\n",
    "width = 0.35 \n",
    "\n",
    "fig, ax = plt.subplots()\n",
    "rects1 = ax.bar(x - width/2, counts, width, label='Average counts in Sim. Log when variant in Training Log')\n",
    "rects2 = ax.bar(x + width/2, testcounts, width, label='Count in Sim. Log when variant in Test Log')\n",
    "\n",
    "\n",
    "# Add some text for labels, title and custom x-axis tick labels, etc.\n",
    "ax.set_ylabel('Counts in simulated log (12.000)')\n",
    "ax.set_xlabel('Variant (Full Train+Test Log)')\n",
    "ax.set_title('Model 2')\n",
    "#ax.set_xticks(x)\n",
    "#ax.set_xticklabels(x)\n",
    "ax.legend()\n",
    "\n",
    "\n",
    "fig.tight_layout()\n",
    "\n",
    "plt.savefig('Plot_Model2.pdf')\n",
    "\n",
    "plt.show()"
   ]
  },
  {
   "cell_type": "code",
   "execution_count": null,
   "metadata": {},
   "outputs": [],
   "source": []
  },
  {
   "cell_type": "code",
   "execution_count": 29,
   "metadata": {},
   "outputs": [
    {
     "name": "stdout",
     "output_type": "stream",
     "text": [
      "precision: (0.9388157552083338, 0.003286625718198113)\n",
      "fitness: (0.9390922420219172, 0.0034722339876190303)\n",
      "generalization: (0.9117133722550925, 0.10192430871735648)\n"
     ]
    }
   ],
   "source": [
    "gen, prec, fit, counts, testcounts, overall_counts = get_metrics('XOR+dep_full_variants')"
   ]
  },
  {
   "cell_type": "code",
   "execution_count": 30,
   "metadata": {},
   "outputs": [
    {
     "name": "stdout",
     "output_type": "stream",
     "text": [
      "0.9117133722550925 0.9388157552083338 0.9390922420219172\n"
     ]
    }
   ],
   "source": [
    "print(gen, prec, fit)"
   ]
  },
  {
   "cell_type": "code",
   "execution_count": 31,
   "metadata": {},
   "outputs": [
    {
     "name": "stdout",
     "output_type": "stream",
     "text": [
      "0.9408337015778031\n"
     ]
    }
   ],
   "source": [
    "ratio = 0\n",
    "for i in range(len(counts)):\n",
    "    ratio += testcounts[i]/counts[i]\n",
    "ratio = ratio/len(counts)\n",
    "\n",
    "print(ratio)"
   ]
  },
  {
   "cell_type": "code",
   "execution_count": 32,
   "metadata": {},
   "outputs": [],
   "source": [
    "overall_counts, counts, testcounts = zip(*sorted(zip(overall_counts, counts, testcounts), reverse=True))"
   ]
  },
  {
   "cell_type": "code",
   "execution_count": 33,
   "metadata": {},
   "outputs": [
    {
     "data": {
      "image/png": "[encoded data removed]",
      "text/plain": [
       "<Figure size 432x288 with 1 Axes>"
      ]
     },
     "metadata": {
      "needs_background": "light"
     },
     "output_type": "display_data"
    }
   ],
   "source": [
    "x = np.arange(len(counts))\n",
    "\n",
    "\n",
    "width = 0.35 \n",
    "\n",
    "fig, ax = plt.subplots()\n",
    "rects1 = ax.bar(x - width/2, counts, width, label='Average counts in Sim. Log when variant in Training Log')\n",
    "rects2 = ax.bar(x + width/2, testcounts, width, label='Count in Sim. Log when variant in Test Log')\n",
    "\n",
    "\n",
    "# Add some text for labels, title and custom x-axis tick labels, etc.\n",
    "ax.set_ylabel('Counts in simulated log (12.000)')\n",
    "ax.set_xlabel('Variant (Full Train+Test Log)')\n",
    "ax.set_title('Model 3')\n",
    "#ax.set_xticks(x)\n",
    "#ax.set_xticklabels(x)\n",
    "ax.legend()\n",
    "\n",
    "\n",
    "\n",
    "fig.tight_layout()\n",
    "\n",
    "plt.savefig('Plot_Model3.pdf')\n",
    "\n",
    "plt.show()"
   ]
  },
  {
   "cell_type": "code",
   "execution_count": null,
   "metadata": {},
   "outputs": [],
   "source": []
  },
  {
   "cell_type": "code",
   "execution_count": 34,
   "metadata": {},
   "outputs": [
    {
     "name": "stdout",
     "output_type": "stream",
     "text": [
      "precision: (0.9210707671957666, 0.006313381445261221)\n",
      "fitness: (0.9241862270138057, 0.005340248617488429)\n",
      "generalization: (0.6793637525015513, 0.20892421901632455)\n"
     ]
    }
   ],
   "source": [
    "gen, prec, fit, counts, testcounts, overall_counts = get_metrics('Parallel2')"
   ]
  },
  {
   "cell_type": "code",
   "execution_count": 35,
   "metadata": {},
   "outputs": [
    {
     "name": "stdout",
     "output_type": "stream",
     "text": [
      "0.6793637525015513 0.9210707671957666 0.9241862270138057\n"
     ]
    }
   ],
   "source": [
    "print(gen, prec, fit)"
   ]
  },
  {
   "cell_type": "code",
   "execution_count": 36,
   "metadata": {},
   "outputs": [
    {
     "name": "stdout",
     "output_type": "stream",
     "text": [
      "0.686556423358751\n"
     ]
    }
   ],
   "source": [
    "ratio = 0\n",
    "for i in range(len(counts)):\n",
    "    ratio += testcounts[i]/counts[i]\n",
    "ratio = ratio/len(counts)\n",
    "\n",
    "print(ratio)"
   ]
  },
  {
   "cell_type": "code",
   "execution_count": null,
   "metadata": {},
   "outputs": [],
   "source": []
  },
  {
   "cell_type": "code",
   "execution_count": 37,
   "metadata": {},
   "outputs": [],
   "source": [
    "overall_counts, counts, testcounts = zip(*sorted(zip(overall_counts, counts, testcounts), reverse=True))"
   ]
  },
  {
   "cell_type": "code",
   "execution_count": 38,
   "metadata": {},
   "outputs": [
    {
     "data": {
      "image/png": "[encoded data removed]",
      "text/plain": [
       "<Figure size 432x288 with 1 Axes>"
      ]
     },
     "metadata": {
      "needs_background": "light"
     },
     "output_type": "display_data"
    }
   ],
   "source": [
    "x = np.arange(len(counts))\n",
    "#x = np.arange(20)\n",
    "\n",
    "width = 0.35 \n",
    "\n",
    "fig, ax = plt.subplots()\n",
    "rects1 = ax.bar(x - width/2, counts, width, label='Average counts in Sim. Log when variant in Training Log')\n",
    "rects2 = ax.bar(x + width/2, testcounts, width, label='Count in Sim. Log when variant in Test Log')\n",
    "\n",
    "\n",
    "# Add some text for labels, title and custom x-axis tick labels, etc.\n",
    "ax.set_ylabel('Counts in simulated log (12.000)')\n",
    "ax.set_xlabel('Variant (Full Train+Test Log)')\n",
    "ax.set_title('Model 5')\n",
    "#ax.set_xticks(x)\n",
    "#ax.set_xticklabels(x)\n",
    "ax.legend()\n",
    "\n",
    "#ax.bar_label(rects1, padding=3)\n",
    "#ax.bar_label(rects2, padding=3)\n",
    "\n",
    "fig.tight_layout()\n",
    "\n",
    "plt.savefig('Plot_Model5.pdf')\n",
    "\n",
    "plt.show()"
   ]
  },
  {
   "cell_type": "code",
   "execution_count": null,
   "metadata": {},
   "outputs": [],
   "source": []
  },
  {
   "cell_type": "code",
   "execution_count": null,
   "metadata": {},
   "outputs": [],
   "source": []
  },
  {
   "cell_type": "code",
   "execution_count": null,
   "metadata": {},
   "outputs": [],
   "source": []
  }
 ],
 "metadata": {
  "kernelspec": {
   "display_name": "Python 3",
   "language": "python",
   "name": "python3"
  },
  "language_info": {
   "codemirror_mode": {
    "name": "ipython",
    "version": 3
   },
   "file_extension": ".py",
   "mimetype": "text/x-python",
   "name": "python",
   "nbconvert_exporter": "python",
   "pygments_lexer": "ipython3",
   "version": "3.8.3"
  }
 },
 "nbformat": 4,
 "nbformat_minor": 4
}
